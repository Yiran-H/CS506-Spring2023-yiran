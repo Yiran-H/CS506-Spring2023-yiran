{
 "cells": [
  {
   "attachments": {},
   "cell_type": "markdown",
   "metadata": {},
   "source": [
    "# Worksheet 07\n",
    "\n",
    "Name: Yiran Huang\n",
    "UID: U71885452\n",
    "\n",
    "### Topics\n",
    "\n",
    "- Soft Clustering\n",
    "- Clustering Aggregation\n",
    "\n",
    "### Probability Review\n",
    "\n",
    "Read through [the following](https://medium.com/@gallettilance/overview-of-probability-3272b72c82c8)\n",
    "\n",
    "### Soft Clustering\n",
    "\n",
    "We generate 10 data points that come from a normal distribution with mean 5 and variance 1."
   ]
  },
  {
   "cell_type": "code",
   "execution_count": 1,
   "metadata": {},
   "outputs": [
    {
     "name": "stdout",
     "output_type": "stream",
     "text": [
      "[3.876431693534233, 5.256732511435729, 5.673275269248176, 6.739122774252902, 4.479912095755185, 6.444829192487952, 5.190038049723218, 6.39656708034804, 5.637475292209947, 3.673991437410923]\n"
     ]
    }
   ],
   "source": [
    "import random\n",
    "import numpy as np\n",
    "from sklearn.cluster import KMeans\n",
    "\n",
    "mean = 5\n",
    "stdev = 1\n",
    "\n",
    "c1 = np.random.normal(mean, stdev, 10).tolist()\n",
    "print(c1)"
   ]
  },
  {
   "cell_type": "markdown",
   "metadata": {},
   "source": [
    "a) Generate 10 more data points, this time coming from a normal distribution with mean 8 and variance 1."
   ]
  },
  {
   "cell_type": "code",
   "execution_count": 4,
   "metadata": {},
   "outputs": [
    {
     "name": "stdout",
     "output_type": "stream",
     "text": [
      "[10.011698956839991, 7.30400875769857, 8.39351442650914, 7.848760533096677, 7.339743646230278, 8.45070665737737, 6.959872353254936, 8.650692156435834, 7.715705589924564, 8.645277151607804]\n"
     ]
    }
   ],
   "source": [
    "c2 = np.random.normal(8, 1, 10).tolist()\n",
    "print(c2)"
   ]
  },
  {
   "cell_type": "markdown",
   "metadata": {},
   "source": [
    "b) Flip a fair coin 10 times. If the coin lands on H, then pick the last data point of `c1` and remove it from `c1`, if T then pick the last data point from `c2` and remove it from `c2`. Add these 10 points to a list called `data`."
   ]
  },
  {
   "cell_type": "code",
   "execution_count": 6,
   "metadata": {},
   "outputs": [
    {
     "name": "stdout",
     "output_type": "stream",
     "text": [
      "[3.673991437410923, 5.637475292209947, 8.645277151607804, 6.39656708034804, 7.715705589924564, 8.650692156435834, 6.959872353254936, 8.45070665737737, 5.190038049723218, 6.444829192487952]\n"
     ]
    }
   ],
   "source": [
    "data = []\n",
    "for i in range(10):\n",
    "    # flip coin\n",
    "    coin_output = random.choice([0, 1])\n",
    "    if coin_output == 0:\n",
    "        p1 = c1.pop()\n",
    "        data.append(p1)\n",
    "    else:\n",
    "        p2 = c2.pop()\n",
    "        data.append(p2)\n",
    "print(data)"
   ]
  },
  {
   "attachments": {},
   "cell_type": "markdown",
   "metadata": {},
   "source": [
    "c) This `data` is a Gaussian Mixture Distribution with 2 mixture components. Over the next few questions we will walk through the GMM algorithm to see if we can uncover the parameters we used to generate this data. First, please list all these parameters of the GMM that created `data` and the values we know they have."
   ]
  },
  {
   "attachments": {},
   "cell_type": "markdown",
   "metadata": {},
   "source": [
    "K = 2\n",
    "weights: unknown\n",
    "means: unknown\n",
    "covariance matrices: unknown."
   ]
  },
  {
   "cell_type": "markdown",
   "metadata": {},
   "source": [
    "d) Let's assume there are two mixture components (note: we could plot the data and make the observation that there are two clusters). The EM algorithm asks us to start with a random `mean_j`, `variance_j`, `P(C_j)` for each component j. One method we could use to find sensible values for these is to apply K means with k=2 here.\n",
    "\n",
    "1. the centroids would be the estimates of the `mean_j`\n",
    "2. the intra-cluster variance could be the estimate of `variance_j`\n",
    "3. the proportion of points in each cluster could be the estimate of `P(C_j)`\n",
    "\n",
    "Go through this process and list the parameter estimates it gives. Are they close or far from the true values?"
   ]
  },
  {
   "cell_type": "code",
   "execution_count": 12,
   "metadata": {},
   "outputs": [
    {
     "name": "stdout",
     "output_type": "stream",
     "text": [
      "[3.673991437410923, 5.637475292209947, 6.39656708034804, 5.190038049723218, 6.444829192487952]\n",
      "[8.645277151607804, 7.715705589924564, 8.650692156435834, 6.959872353254936, 8.45070665737737]\n",
      "P(C_1) = 0.5,  P(C_2) = 0.5\n",
      "mean_1 = 5.4685802104360155,  mean_2 = 8.084450781720102\n",
      "var_1 = 1.0281763707792488,  var_2 = 0.43398970725927244\n"
     ]
    },
    {
     "name": "stderr",
     "output_type": "stream",
     "text": [
      "/Users/yiran/Library/Python/3.9/lib/python/site-packages/sklearn/cluster/_kmeans.py:870: FutureWarning: The default value of `n_init` will change from 10 to 'auto' in 1.4. Set the value of `n_init` explicitly to suppress the warning\n",
      "  warnings.warn(\n"
     ]
    }
   ],
   "source": [
    "kmeans = KMeans(2, init='k-means++').fit(X=np.array(data).reshape(-1, 1))\n",
    "\n",
    "c1 = [x[0] for x in filter(lambda x: x[1] == 0, zip(data, kmeans.labels_))]\n",
    "print(c1)\n",
    "c2 = [x[0] for x in filter(lambda x: x[1] == 1, zip(data, kmeans.labels_))]\n",
    "print(c2)\n",
    "\n",
    "prob_c = [ len(c1) / (len(c1) + len(c2)) , len(c2) / (len(c1) + len(c2))]\n",
    "mean = [ sum(c1)/len(c1) , sum(c2)/len(c2)]\n",
    "var = [ sum(map(lambda x : (x - mean[0])**2, c1)) / len(c1) , sum(map(lambda x : (x - mean[1])**2, c2)) / len(c2)]\n",
    "\n",
    "print(\"P(C_1) = \" + str(prob_c[0]) + \",  P(C_2) = \" + str(prob_c[1]))\n",
    "print(\"mean_1 = \" + str(mean[0]) + \",  mean_2 = \" + str(mean[1]))\n",
    "print(\"var_1 = \" + str(var[0]) + \",  var_2 = \" + str(var[1]))"
   ]
  },
  {
   "attachments": {},
   "cell_type": "markdown",
   "metadata": {},
   "source": [
    "They are close to the true values."
   ]
  },
  {
   "cell_type": "markdown",
   "metadata": {},
   "source": [
    "e) For each data point, compute `P(C_j | X_i)`. Comment on which cluster you think each point belongs to based on the estimated probabilities. How does that compare to the truth?"
   ]
  },
  {
   "cell_type": "code",
   "execution_count": 16,
   "metadata": {},
   "outputs": [
    {
     "name": "stdout",
     "output_type": "stream",
     "text": [
      "point =  3.673991437410923\n",
      "probability of observing that point if it came from cluster 0 =  0.08458888879668218\n",
      "probability of observing that point if it came from cluster 1 =  3.442293625100795e-23\n",
      "point =  5.637475292209947\n",
      "probability of observing that point if it came from cluster 0 =  0.3828098005041586\n",
      "probability of observing that point if it came from cluster 1 =  1.1485853178298981e-07\n",
      "point =  8.645277151607804\n",
      "probability of observing that point if it came from cluster 0 =  0.003280795929681298\n",
      "probability of observing that point if it came from cluster 1 =  0.3988505297769295\n",
      "point =  6.39656708034804\n",
      "probability of observing that point if it came from cluster 0 =  0.2581978772204007\n",
      "probability of observing that point if it came from cluster 1 =  0.00047735965445696763\n",
      "point =  7.715705589924564\n",
      "probability of observing that point if it came from cluster 0 =  0.035613589416023314\n",
      "probability of observing that point if it came from cluster 1 =  0.6407165875704889\n",
      "point =  8.650692156435834\n",
      "probability of observing that point if it came from cluster 0 =  0.003227798234201077\n",
      "probability of observing that point if it came from cluster 1 =  0.3924405481079869\n",
      "point =  6.959872353254936\n",
      "probability of observing that point if it came from cluster 0 =  0.1355261336517184\n",
      "probability of observing that point if it came from cluster 1 =  0.032016372240884015\n",
      "point =  8.45070665737737\n",
      "probability of observing that point if it came from cluster 0 =  0.005782635259089317\n",
      "probability of observing that point if it came from cluster 1 =  0.6438361973637654\n",
      "point =  5.190038049723218\n",
      "probability of observing that point if it came from cluster 0 =  0.37402932458078636\n",
      "probability of observing that point if it came from cluster 1 =  2.0173525842877748e-10\n",
      "point =  6.444829192487952\n",
      "probability of observing that point if it came from cluster 0 =  0.24721515753273907\n",
      "probability of observing that point if it came from cluster 1 =  0.0007311295790150803\n",
      "3.673991437410923\n",
      "Probability of coming from C_1 = 1.0\n",
      "Probability of coming from C_2 = 4.069439466659375e-22\n",
      "\n",
      "5.637475292209947\n",
      "Probability of coming from C_1 = 0.9999996999593606\n",
      "Probability of coming from C_2 = 3.000406394232708e-07\n",
      "\n",
      "8.645277151607804\n",
      "Probability of coming from C_1 = 0.008158518672765423\n",
      "Probability of coming from C_2 = 0.9918414813272346\n",
      "\n",
      "6.39656708034804\n",
      "Probability of coming from C_1 = 0.998154598560635\n",
      "Probability of coming from C_2 = 0.0018454014393650888\n",
      "\n",
      "7.715705589924564\n",
      "Probability of coming from C_1 = 0.05265710540183917\n",
      "Probability of coming from C_2 = 0.9473428945981608\n",
      "\n",
      "8.650692156435834\n",
      "Probability of coming from C_1 = 0.00815783790652175\n",
      "Probability of coming from C_2 = 0.9918421620934783\n",
      "\n",
      "6.959872353254936\n",
      "Probability of coming from C_1 = 0.8089059724258448\n",
      "Probability of coming from C_2 = 0.19109402757415514\n",
      "\n",
      "8.45070665737737\n",
      "Probability of coming from C_1 = 0.008901581925729833\n",
      "Probability of coming from C_2 = 0.9910984180742702\n",
      "\n",
      "5.190038049723218\n",
      "Probability of coming from C_1 = 0.9999999994606432\n",
      "Probability of coming from C_2 = 5.393567965455006e-10\n",
      "\n",
      "6.444829192487952\n",
      "Probability of coming from C_1 = 0.9970512582078491\n",
      "Probability of coming from C_2 = 0.0029487417921509195\n",
      "\n"
     ]
    }
   ],
   "source": [
    "from scipy.stats import norm\n",
    "\n",
    "prob_c0_x = [] # P(C_0 | X_i)\n",
    "prob_c1_x = [] # P(C_1 | X_i)\n",
    "prob_x = [] # P(X_i)\n",
    "\n",
    "k = 2\n",
    "\n",
    "for p in data:\n",
    "    print(\"point = \", p)\n",
    "    pdf_i = []\n",
    "\n",
    "    for j in range(k):\n",
    "        # P(X_i | C_j)\n",
    "        pdf_i.append(norm.pdf(p, mean[j], var[j]))\n",
    "        print(\"probability of observing that point if it came from cluster \" + str(j) + \" = \", pdf_i[j])\n",
    "        # P(C_j) already computed\n",
    "        prob_c[j]\n",
    "\n",
    "    # P(X_i) = P(C_0)P(X_i | C_0) + P(C_1)P(X_i | C_1)\n",
    "    prob_x = prob_c[0] * pdf_i[0] + prob_c[1] * pdf_i[1]\n",
    "\n",
    "    # P(C_j | X_i) = P(X_i | C_j)P(C_j) / P(X_i)\n",
    "    prob_c0_x.append(pdf_i[0] * prob_c[0] / prob_x)\n",
    "    prob_c1_x.append(pdf_i[1] * prob_c[1] / prob_x)\n",
    "\n",
    "probs = zip(data, prob_c0_x, prob_c1_x)\n",
    "for p in probs:\n",
    "    print(p[0])\n",
    "    print(\"Probability of coming from C_1 = \" + str(p[1]))\n",
    "    print(\"Probability of coming from C_2 = \" + str(p[2]))\n",
    "    print()"
   ]
  },
  {
   "cell_type": "markdown",
   "metadata": {},
   "source": [
    "f) Having computed `P(C_j | X_i)`, update the estimates of `mean_j`, `var_j`, and `P(C_j)`. How different are these values from the original ones you got from K means? briefly comment."
   ]
  },
  {
   "cell_type": "code",
   "execution_count": 17,
   "metadata": {},
   "outputs": [
    {
     "name": "stdout",
     "output_type": "stream",
     "text": [
      "P(C_1) = 0.5881986572521188,  P(C_2) = 0.41180134274788116\n",
      "mean_1 = 5.706335413430702,  mean_2 = 8.305112958705873\n",
      "var_1 = 1.209276909843959,  var_2 = 0.22974217691886525\n"
     ]
    }
   ],
   "source": [
    "prob_c = [sum(prob_c0_x) / len(prob_c0_x), sum(prob_c1_x) / len(prob_c1_x)]\n",
    "mean = [sum([x[0] * x[1] for x in zip(prob_c0_x, data)]) / sum(prob_c0_x), sum([x[0] * x[1] for x in zip(prob_c1_x, data)]) / sum(prob_c1_x)]\n",
    "var = [sum([prob_c0_x[i] * (data[i] - mean[0])**2 for i in range(len(data))]) / sum(prob_c0_x), sum([prob_c1_x[i] * (data[i] - mean[1])**2 for i in range(len(data))]) / sum(prob_c1_x)]\n",
    "\n",
    "print(\"P(C_1) = \" + str(prob_c[0]) + \",  P(C_2) = \" + str(prob_c[1]))\n",
    "print(\"mean_1 = \" + str(mean[0]) + \",  mean_2 = \" + str(mean[1]))\n",
    "print(\"var_1 = \" + str(var[0]) + \",  var_2 = \" + str(var[1]))"
   ]
  },
  {
   "attachments": {},
   "cell_type": "markdown",
   "metadata": {},
   "source": [
    "These values aren't different. The variances are closer to what they should be."
   ]
  },
  {
   "cell_type": "markdown",
   "metadata": {},
   "source": [
    "g) Update `P(C_j | X_i)`. Comment on any differences or lack thereof you observe."
   ]
  },
  {
   "cell_type": "code",
   "execution_count": 18,
   "metadata": {},
   "outputs": [
    {
     "name": "stdout",
     "output_type": "stream",
     "text": [
      "3.673991437410923\n",
      "Probability of coming from C_1 = 1.0\n",
      "Probability of coming from C_2 = 8.788325604881447e-88\n",
      "\n",
      "5.637475292209947\n",
      "Probability of coming from C_1 = 1.0\n",
      "Probability of coming from C_2 = 1.9505428460387293e-29\n",
      "\n",
      "8.645277151607804\n",
      "Probability of coming from C_1 = 0.04064408854417291\n",
      "Probability of coming from C_2 = 0.959355911455827\n",
      "\n",
      "6.39656708034804\n",
      "Probability of coming from C_1 = 0.9999999999999954\n",
      "Probability of coming from C_2 = 4.481855353108954e-15\n",
      "\n",
      "7.715705589924564\n",
      "Probability of coming from C_1 = 0.6470586319745653\n",
      "Probability of coming from C_2 = 0.3529413680254348\n",
      "\n",
      "8.650692156435834\n",
      "Probability of coming from C_1 = 0.041601585612826154\n",
      "Probability of coming from C_2 = 0.9583984143871739\n",
      "\n",
      "6.959872353254936\n",
      "Probability of coming from C_1 = 0.9999997737213713\n",
      "Probability of coming from C_2 = 2.2627862872008374e-07\n",
      "\n",
      "8.45070665737737\n",
      "Probability of coming from C_1 = 0.024634802998679733\n",
      "Probability of coming from C_2 = 0.9753651970013202\n",
      "\n",
      "5.190038049723218\n",
      "Probability of coming from C_1 = 1.0\n",
      "Probability of coming from C_2 = 4.8334399679982784e-40\n",
      "\n",
      "6.444829192487952\n",
      "Probability of coming from C_1 = 0.9999999999999744\n",
      "Probability of coming from C_2 = 2.5704784580459723e-14\n",
      "\n"
     ]
    }
   ],
   "source": [
    "# essentially just a copy paste of part e\n",
    "prob_c0_x = []\n",
    "prob_c1_x = []\n",
    "\n",
    "for p in data:\n",
    "    pdf_i = [norm.pdf(p, mean[j], var[j]) for j in range(k)]\n",
    "    prob_x = prob_c[0] * pdf_i[0] + prob_c[1] * pdf_i[1]\n",
    "\n",
    "    prob_c0_x.append(pdf_i[0] * prob_c[0] / prob_x)\n",
    "    prob_c1_x.append(pdf_i[1] * prob_c[1] / prob_x)\n",
    "\n",
    "probs = zip(data, prob_c0_x, prob_c1_x)\n",
    "for p in probs:\n",
    "    print(p[0])\n",
    "    print(\"Probability of coming from C_1 = \" + str(p[1]))\n",
    "    print(\"Probability of coming from C_2 = \" + str(p[2]))\n",
    "    print()"
   ]
  },
  {
   "attachments": {},
   "cell_type": "markdown",
   "metadata": {},
   "source": [
    "More definitive decisions being made"
   ]
  },
  {
   "cell_type": "markdown",
   "metadata": {},
   "source": [
    "h) Use `P(C_j | X_i)` to create a hard assignment - label each point as belonging to a specific cluster (0 or 1)"
   ]
  },
  {
   "cell_type": "code",
   "execution_count": 19,
   "metadata": {},
   "outputs": [
    {
     "name": "stdout",
     "output_type": "stream",
     "text": [
      "[0, 0, 1, 0, 0, 1, 0, 1, 0, 0]\n"
     ]
    }
   ],
   "source": [
    "labels = []\n",
    "\n",
    "for i in range(len(data)):\n",
    "    if prob_c0_x[i] > prob_c1_x[i]:\n",
    "        labels.append(0)\n",
    "    else:\n",
    "        labels.append(1)\n",
    "\n",
    "print(labels)"
   ]
  },
  {
   "cell_type": "markdown",
   "metadata": {},
   "source": [
    "### Clustering Aggregation\n",
    "\n",
    "| Point | C | P |\n",
    "|-------|---|---|\n",
    "| A     | 0 | a |\n",
    "| B     | 0 | b |\n",
    "| C     | 2 | b |\n",
    "| D     | 1 | c |\n",
    "| E     | 1 | d |\n",
    "\n",
    "a) Fill in the following table where for each pair of points determine whether C and P agree or disagree on how to cluster that pair."
   ]
  },
  {
   "cell_type": "markdown",
   "metadata": {},
   "source": [
    "| Pair | Disagreement |\n",
    "|------|--------------|\n",
    "| A  B |      ?       |\n",
    "| A  C |      ?       |\n",
    "| A  D |      ?       |\n",
    "| A  E |      ?       |\n",
    "| B  C |      ?       |\n",
    "| B  D |      ?       |\n",
    "| B  E |      ?       |\n",
    "| C  D |      ?       |\n",
    "| C  E |      ?       |\n",
    "| D  E |      ?       |\n"
   ]
  },
  {
   "cell_type": "markdown",
   "metadata": {},
   "source": [
    "As datasets become very large, this process can become computationally challenging.\n",
    "\n",
    "b) Given N points, what is the formula for the number of unique pairs of points one can create?"
   ]
  },
  {
   "cell_type": "markdown",
   "metadata": {},
   "source": []
  },
  {
   "cell_type": "markdown",
   "metadata": {},
   "source": [
    "Assume that clustering C clusters all points in the same cluster and clustering P clusters points as such:\n",
    "\n",
    "| Point | P |\n",
    "|-------|---|\n",
    "| A     | 0 |\n",
    "| B     | 0 |\n",
    "| C     | 0 |\n",
    "| D     | 1 |\n",
    "| E     | 1 |\n",
    "| F     | 2 |\n",
    "| G     | 2 |\n",
    "| H     | 2 |\n",
    "| I     | 2 |\n",
    "\n",
    "c) What is the maximum number of disagreements there could be for a dataset of this size? (use the formula from b)?"
   ]
  },
  {
   "cell_type": "markdown",
   "metadata": {},
   "source": []
  },
  {
   "cell_type": "markdown",
   "metadata": {},
   "source": [
    "d) If we look at cluster 0. There are (3 x 2) / 2 = 3 pairs that agree with C (since all points in C are in the same cluster). For each cluster, determine how many agreements there are. How many total agreements are there? How many disagreements does that mean there are between C and P?"
   ]
  },
  {
   "cell_type": "markdown",
   "metadata": {},
   "source": []
  },
  {
   "cell_type": "markdown",
   "metadata": {},
   "source": [
    "e) Assuming that filtering the dataset by cluster number is a computationally easy operation, describe an algorithm inspired by the above process that can efficiently compute disagreement distances on large datasets."
   ]
  },
  {
   "cell_type": "markdown",
   "metadata": {},
   "source": []
  }
 ],
 "metadata": {
  "kernelspec": {
   "display_name": "Python 3.9.6 64-bit",
   "language": "python",
   "name": "python3"
  },
  "language_info": {
   "codemirror_mode": {
    "name": "ipython",
    "version": 3
   },
   "file_extension": ".py",
   "mimetype": "text/x-python",
   "name": "python",
   "nbconvert_exporter": "python",
   "pygments_lexer": "ipython3",
   "version": "3.9.6"
  },
  "orig_nbformat": 4,
  "vscode": {
   "interpreter": {
    "hash": "31f2aee4e71d21fbe5cf8b01ff0e069b9275f58929596ceb00d14d90e3e16cd6"
   }
  }
 },
 "nbformat": 4,
 "nbformat_minor": 2
}
