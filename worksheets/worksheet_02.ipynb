{
 "cells": [
  {
   "cell_type": "markdown",
   "metadata": {},
   "source": [
    "# Worksheet 02\n",
    "\n",
    "Name: Yiran Huang  \n",
    "UID: U71885452\n",
    "\n",
    "### Topics\n",
    "\n",
    "- Effective Programming\n",
    "\n",
    "### Effective Programming\n",
    "\n",
    "a) What is a drawback of the top down approach?"
   ]
  },
  {
   "cell_type": "markdown",
   "metadata": {},
   "source": [
    "1. Breaking systems into parts may be time-consuming as there is a need for more planning before working on individual sub-systems.\n",
    "2. Error could be more and possible."
   ]
  },
  {
   "cell_type": "markdown",
   "metadata": {},
   "source": [
    "b) What is a drawback of the bottom up approach?"
   ]
  },
  {
   "cell_type": "markdown",
   "metadata": {},
   "source": [
    "1. Result could be affected as some workers lack the needed experience to execute some tasks successfully.\n",
    "2. Lack of desired unity among workers with differences in objectives resulting to endangering the result."
   ]
  },
  {
   "cell_type": "markdown",
   "metadata": {},
   "source": [
    "c) What are 3 things you can do to have a better debugging experience?"
   ]
  },
  {
   "cell_type": "markdown",
   "metadata": {},
   "source": [
    "1. Figure it out what the errors are and try to find them out to know where they locate.\n",
    "2. Read the error message and the code body that error is in to think about why they occur\n",
    "3. Try to mentally trace through the code to reproduce the error in my head. If not, the code may need some refactoring because it’s too complex!\n",
    "4. Sanity check. Is everything set up properly? \n",
    "5. Insert breakpoints and debug steps by steps."
   ]
  },
  {
   "cell_type": "markdown",
   "metadata": {},
   "source": [
    "d) (Optional) Follow along with the live coding. You can write your code here:"
   ]
  },
  {
   "cell_type": "code",
   "execution_count": 18,
   "metadata": {},
   "outputs": [
    {
     "name": "stdout",
     "output_type": "stream",
     "text": [
      "Q - - - - - - -\n",
      "- - - - Q - - -\n",
      "- - - - - - - Q\n",
      "- - - - - Q - -\n",
      "- - Q - - - - -\n",
      "- - - - - - Q -\n",
      "- Q - - - - - -\n",
      "- - - Q - - - -\n"
     ]
    }
   ],
   "source": [
    "class Board():\n",
    "    \n",
    "    def __init__(self):\n",
    "        self.queen = \"Q\"\n",
    "        self.blank = \"-\"\n",
    "        self.board = [[\"-\" for _ in range(8)] for _ in range(8)]\n",
    "        \n",
    "    def __repr__(self):\n",
    "        return \"\\n\".join([\" \".join(x) for x in self.board])\n",
    "\n",
    "    def set_queen_at(self, row, col):\n",
    "        self.board[row][col] = self.queen\n",
    "\n",
    "    def search(self):\n",
    "        result = []\n",
    "        list = []\n",
    "        self.helper(result, list, 8, 0)\n",
    "        for r in result:\n",
    "            # print(r)\n",
    "            for i in range(8):\n",
    "                self.set_queen_at(i, r[i])\n",
    "            print(self)\n",
    "            break\n",
    "\n",
    "    def helper(self, result, list, n, index): \n",
    "        if index == n:\n",
    "            result.append(list.copy())\n",
    "            list = []\n",
    "            return\n",
    "        for i in range(8):\n",
    "            if self.is_valid_move(list, i, index):\n",
    "                list.append(i)\n",
    "                self.helper(result, list, n, index + 1)\n",
    "                list.pop(len(list) - 1)\n",
    "\n",
    "    def is_valid_move(self, list, col, row):\n",
    "        for i in range(len(list)):\n",
    "            if list[i] == col or abs(list[i] - col) == abs(row - i):\n",
    "                return False\n",
    "        return True    \n",
    "\n",
    "board = Board()\n",
    "board.search()"
   ]
  }
 ],
 "metadata": {
  "kernelspec": {
   "display_name": "Python 3",
   "language": "python",
   "name": "python3"
  },
  "language_info": {
   "codemirror_mode": {
    "name": "ipython",
    "version": 3
   },
   "file_extension": ".py",
   "mimetype": "text/x-python",
   "name": "python",
   "nbconvert_exporter": "python",
   "pygments_lexer": "ipython3",
   "version": "3.9.6 (default, Oct 18 2022, 12:41:40) \n[Clang 14.0.0 (clang-1400.0.29.202)]"
  },
  "vscode": {
   "interpreter": {
    "hash": "31f2aee4e71d21fbe5cf8b01ff0e069b9275f58929596ceb00d14d90e3e16cd6"
   }
  }
 },
 "nbformat": 4,
 "nbformat_minor": 2
}
