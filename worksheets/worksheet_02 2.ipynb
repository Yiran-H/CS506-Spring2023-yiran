{
 "cells": [
  {
   "cell_type": "markdown",
   "metadata": {},
   "source": [
    "# Worksheet 02\n",
    "\n",
    "Name: Zhi Zheng\n",
    "\n",
    "UID: U92700642\n",
    "\n",
    "### Topics\n",
    "\n",
    "- Effective Programming\n",
    "\n",
    "### Effective Programming\n",
    "\n",
    "a) What is a drawback of the top down approach?"
   ]
  },
  {
   "cell_type": "markdown",
   "metadata": {},
   "source": [
    "Less chance for creativity: "
   ]
  },
  {
   "cell_type": "markdown",
   "metadata": {},
   "source": [
    "b) What is a drawback of the bottom up approach?"
   ]
  },
  {
   "cell_type": "markdown",
   "metadata": {},
   "source": [
    "Hard to manage the team: "
   ]
  },
  {
   "cell_type": "markdown",
   "metadata": {},
   "source": [
    "c) What are 3 things you can do to have a better debugging experience?"
   ]
  },
  {
   "cell_type": "markdown",
   "metadata": {},
   "source": [
    "1. Read the error\n",
    "2. Look online for some help\n",
    "3. Take breaks"
   ]
  },
  {
   "cell_type": "markdown",
   "metadata": {},
   "source": [
    "d) (Optional) Follow along with the live coding. You can write your code here:"
   ]
  },
  {
   "cell_type": "code",
   "execution_count": 2,
   "metadata": {},
   "outputs": [
    {
     "name": "stdout",
     "output_type": "stream",
     "text": [
      "\n",
      "Q - - - - - - -\n",
      "- - - - Q - - -\n",
      "- - - - - - - Q\n",
      "- - - - - Q - -\n",
      "- - Q - - - - -\n",
      "- - - - - - Q -\n",
      "- Q - - - - - -\n",
      "- - - Q - - - -\n"
     ]
    }
   ],
   "source": [
    "class Board():\n",
    "    \n",
    "    def __init__(self):\n",
    "        self.queen = \"Q\"\n",
    "        self.blank = \"-\"\n",
    "        self.board = [[\"-\" for _ in range(8)] for _ in range(8)]\n",
    "        \n",
    "    def __repr__(self):\n",
    "        return \"\\n\".join([\" \".join(x) for x in self.board])\n",
    "    \n",
    "    def is_queen(self, row, col):\n",
    "        return self.board[row][col] == self.queen\n",
    "    \n",
    "    def is_on_board(self, row, col):\n",
    "        if row < 0 or row > 7:\n",
    "            return False\n",
    "        if col < 0 or col > 7:\n",
    "            return False\n",
    "        return True\n",
    "    \n",
    "    def is_valid_row(self, row):\n",
    "        for i in range(8):\n",
    "            if self.is_queen(row, i):\n",
    "                return False\n",
    "        return True\n",
    "        \n",
    "    def is_valid_col(self, col):\n",
    "        for i in range(8):\n",
    "            if self.is_queen(i, col):\n",
    "                return False\n",
    "        return True\n",
    "    \n",
    "    def is_valid_diag(self, row, col):\n",
    "        for i in range(1, 8):\n",
    "            if self.is_on_board(row-i, col-i) and self.is_queen(row-i, col-i):\n",
    "                return False\n",
    "            if self.is_on_board(row+i, col-i) and self.is_queen(row+i, col-i):\n",
    "                return False\n",
    "            if self.is_on_board(row-i, col+i) and self.is_queen(row-i, col+i):\n",
    "                return False\n",
    "            if self.is_on_board(row+i, col+i) and self.is_queen(row+i, col+i):\n",
    "                return False\n",
    "        return True\n",
    "    \n",
    "    def is_valid_move(self, row, col):\n",
    "#         if self.num_queens() > 8:\n",
    "#             return False\n",
    "        if not self.is_on_board(row, col):\n",
    "            return False\n",
    "        if not self.is_valid_row(row):\n",
    "            return False\n",
    "        if not self.is_valid_col(col):\n",
    "            return False\n",
    "        if not self.is_valid_diag(row, col):\n",
    "            return False\n",
    "        return True\n",
    "        \n",
    "    def set_queen_at(self, row, col):\n",
    "        self.board[row][col] = self.queen\n",
    "        \n",
    "    def find_queen_on(self, row):\n",
    "        for col in range(8):\n",
    "            if self.is_queen(row, col):\n",
    "                return col\n",
    "        raise ValueError(\"programmer error\")\n",
    "        \n",
    "    def unset_queen_on(self, row):\n",
    "        self.board[row] = [\"-\" for _ in range(8)]\n",
    "    \n",
    "    def search(self):\n",
    "        row = 0\n",
    "        col = 0\n",
    "        while row < 8:\n",
    "            if self.is_valid_move(row, col):\n",
    "                self.set_queen_at(row, col)\n",
    "                row += 1\n",
    "                col = 0\n",
    "            else:\n",
    "                col += 1\n",
    "                if col >= 8:\n",
    "                    col = self.find_queen_on(row - 1) + 1\n",
    "                    self.unset_queen_on(row - 1)\n",
    "                    row -= 1\n",
    "        print(self)\n",
    "                    \n",
    "board = Board()\n",
    "board\n",
    "print()\n",
    "board.search()"
   ]
  },
  {
   "cell_type": "code",
   "execution_count": 1,
   "metadata": {},
   "outputs": [
    {
     "name": "stdout",
     "output_type": "stream",
     "text": [
      "[ 1.22 -0.12 -0.54 -0.56]\n",
      "[[314 301 302 303]\n",
      " [301 301 300 300]\n",
      " [302 300 301 300]\n",
      " [303 300 300 301]]\n",
      "[[ 0.12013333  0.07986667 -0.04026667 -0.1604    ]\n",
      " [ 0.07986667  0.72013333 -0.35973333 -0.4396    ]\n",
      " [-0.04026667 -0.35973333  0.68053333 -0.2792    ]\n",
      " [-0.1604     -0.4396     -0.2792      0.8812    ]]\n",
      "[[1.1 3.8 9.3]\n",
      " [1.1 0.  0. ]\n",
      " [0.  1.9 0. ]\n",
      " [0.  0.  3.1]]\n",
      "[[ 0.22  0.38  0.62]\n",
      " [ 0.88 -0.38 -0.62]\n",
      " [-0.44  1.14 -1.24]\n",
      " [-0.66 -1.14  1.24]]\n"
     ]
    }
   ],
   "source": [
    "import numpy as np\n",
    "x = [[1, 2, 3], [1, 0, 0], [0, 1, 0], [0, 0, 1]]\n",
    "y = [1.1, 1.9, 3.1]\n",
    "k = [[3, 3, 3, 3], [3, 3, 3, 3], [3, 3, 3, 3], [3, 3, 3, 3]]\n",
    "p = 100\n",
    "print(np.dot(np.dot(np.linalg.inv((np.dot(x, np.transpose(x)) + np.dot(k, p))), x), np.transpose(y)))\n",
    "print(np.dot(x, np.transpose(x)) + np.dot(k, p))\n",
    "print(np.linalg.inv((np.dot(x, np.transpose(x)) + np.dot(k, p))))\n",
    "print(x * np.transpose(y))\n",
    "print(np.dot(np.linalg.inv((np.dot(x, np.transpose(x)) + np.dot(k, p))), (x * np.transpose(y))))"
   ]
  }
 ],
 "metadata": {
  "kernelspec": {
   "display_name": "Python 3 (ipykernel)",
   "language": "python",
   "name": "python3"
  },
  "language_info": {
   "codemirror_mode": {
    "name": "ipython",
    "version": 3
   },
   "file_extension": ".py",
   "mimetype": "text/x-python",
   "name": "python",
   "nbconvert_exporter": "python",
   "pygments_lexer": "ipython3",
   "version": "3.9.6"
  },
  "vscode": {
   "interpreter": {
    "hash": "31f2aee4e71d21fbe5cf8b01ff0e069b9275f58929596ceb00d14d90e3e16cd6"
   }
  }
 },
 "nbformat": 4,
 "nbformat_minor": 2
}
